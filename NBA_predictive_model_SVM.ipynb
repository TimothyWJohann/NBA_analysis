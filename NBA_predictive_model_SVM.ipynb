{
 "cells": [
  {
   "cell_type": "code",
   "execution_count": 2,
   "id": "f576f878",
   "metadata": {},
   "outputs": [],
   "source": [
    "import pandas as pd\n",
    "import numpy as np\n",
    "import matplotlib.pyplot as plt\n",
    "import seaborn as sns\n",
    "from sklearn.model_selection import train_test_split\n",
    "from sklearn.preprocessing import StandardScaler\n",
    "from sklearn.svm import SVR\n",
    "from sklearn.neighbors import KNeighborsRegressor\n",
    "from sklearn.model_selection import cross_val_score\n",
    "from sklearn.model_selection import GridSearchCV\n",
    "from sklearn.dummy import DummyRegressor\n",
    "from sklearn.metrics import mean_squared_error"
   ]
  },
  {
   "cell_type": "code",
   "execution_count": 3,
   "id": "b74723e0",
   "metadata": {
    "scrolled": true
   },
   "outputs": [
    {
     "data": {
      "text/html": [
       "<div>\n",
       "<style scoped>\n",
       "    .dataframe tbody tr th:only-of-type {\n",
       "        vertical-align: middle;\n",
       "    }\n",
       "\n",
       "    .dataframe tbody tr th {\n",
       "        vertical-align: top;\n",
       "    }\n",
       "\n",
       "    .dataframe thead th {\n",
       "        text-align: right;\n",
       "    }\n",
       "</style>\n",
       "<table border=\"1\" class=\"dataframe\">\n",
       "  <thead>\n",
       "    <tr style=\"text-align: right;\">\n",
       "      <th></th>\n",
       "      <th>season</th>\n",
       "      <th>age</th>\n",
       "      <th>w</th>\n",
       "      <th>sos</th>\n",
       "      <th>o_rtg</th>\n",
       "      <th>d_rtg</th>\n",
       "      <th>pace</th>\n",
       "      <th>f_tr</th>\n",
       "      <th>x3p_ar</th>\n",
       "      <th>ts_percent</th>\n",
       "      <th>...</th>\n",
       "      <th>away_orb_percent</th>\n",
       "      <th>away_opp_e_fg_percent</th>\n",
       "      <th>away_opp_tov_percent</th>\n",
       "      <th>away_opp_drb_percent</th>\n",
       "      <th>away_opp_ft_fga</th>\n",
       "      <th>away_attend</th>\n",
       "      <th>away_attend_g</th>\n",
       "      <th>home_score</th>\n",
       "      <th>away_score</th>\n",
       "      <th>spread</th>\n",
       "    </tr>\n",
       "  </thead>\n",
       "  <tbody>\n",
       "    <tr>\n",
       "      <th>0</th>\n",
       "      <td>2005</td>\n",
       "      <td>26.0</td>\n",
       "      <td>13.0</td>\n",
       "      <td>0.09</td>\n",
       "      <td>100.6</td>\n",
       "      <td>111.1</td>\n",
       "      <td>91.4</td>\n",
       "      <td>0.299</td>\n",
       "      <td>0.146</td>\n",
       "      <td>0.504</td>\n",
       "      <td>...</td>\n",
       "      <td>27.2</td>\n",
       "      <td>0.481</td>\n",
       "      <td>14.2</td>\n",
       "      <td>70.1</td>\n",
       "      <td>0.274</td>\n",
       "      <td>656081.0</td>\n",
       "      <td>16002.0</td>\n",
       "      <td>120</td>\n",
       "      <td>117</td>\n",
       "      <td>3</td>\n",
       "    </tr>\n",
       "    <tr>\n",
       "      <th>1</th>\n",
       "      <td>2005</td>\n",
       "      <td>26.0</td>\n",
       "      <td>13.0</td>\n",
       "      <td>0.09</td>\n",
       "      <td>100.6</td>\n",
       "      <td>111.1</td>\n",
       "      <td>91.4</td>\n",
       "      <td>0.299</td>\n",
       "      <td>0.146</td>\n",
       "      <td>0.504</td>\n",
       "      <td>...</td>\n",
       "      <td>29.5</td>\n",
       "      <td>0.497</td>\n",
       "      <td>14.7</td>\n",
       "      <td>70.9</td>\n",
       "      <td>0.269</td>\n",
       "      <td>591701.0</td>\n",
       "      <td>14432.0</td>\n",
       "      <td>90</td>\n",
       "      <td>93</td>\n",
       "      <td>-3</td>\n",
       "    </tr>\n",
       "    <tr>\n",
       "      <th>2</th>\n",
       "      <td>2005</td>\n",
       "      <td>26.0</td>\n",
       "      <td>13.0</td>\n",
       "      <td>0.09</td>\n",
       "      <td>100.6</td>\n",
       "      <td>111.1</td>\n",
       "      <td>91.4</td>\n",
       "      <td>0.299</td>\n",
       "      <td>0.146</td>\n",
       "      <td>0.504</td>\n",
       "      <td>...</td>\n",
       "      <td>28.4</td>\n",
       "      <td>0.454</td>\n",
       "      <td>14.4</td>\n",
       "      <td>72.6</td>\n",
       "      <td>0.262</td>\n",
       "      <td>828384.0</td>\n",
       "      <td>20204.0</td>\n",
       "      <td>105</td>\n",
       "      <td>114</td>\n",
       "      <td>-9</td>\n",
       "    </tr>\n",
       "    <tr>\n",
       "      <th>3</th>\n",
       "      <td>2005</td>\n",
       "      <td>26.0</td>\n",
       "      <td>13.0</td>\n",
       "      <td>0.09</td>\n",
       "      <td>100.6</td>\n",
       "      <td>111.1</td>\n",
       "      <td>91.4</td>\n",
       "      <td>0.299</td>\n",
       "      <td>0.146</td>\n",
       "      <td>0.504</td>\n",
       "      <td>...</td>\n",
       "      <td>28.4</td>\n",
       "      <td>0.482</td>\n",
       "      <td>15.1</td>\n",
       "      <td>71.7</td>\n",
       "      <td>0.247</td>\n",
       "      <td>723949.0</td>\n",
       "      <td>17657.0</td>\n",
       "      <td>110</td>\n",
       "      <td>107</td>\n",
       "      <td>3</td>\n",
       "    </tr>\n",
       "    <tr>\n",
       "      <th>4</th>\n",
       "      <td>2005</td>\n",
       "      <td>26.0</td>\n",
       "      <td>13.0</td>\n",
       "      <td>0.09</td>\n",
       "      <td>100.6</td>\n",
       "      <td>111.1</td>\n",
       "      <td>91.4</td>\n",
       "      <td>0.299</td>\n",
       "      <td>0.146</td>\n",
       "      <td>0.504</td>\n",
       "      <td>...</td>\n",
       "      <td>31.2</td>\n",
       "      <td>0.461</td>\n",
       "      <td>13.5</td>\n",
       "      <td>73.0</td>\n",
       "      <td>0.207</td>\n",
       "      <td>905116.0</td>\n",
       "      <td>22076.0</td>\n",
       "      <td>68</td>\n",
       "      <td>95</td>\n",
       "      <td>-27</td>\n",
       "    </tr>\n",
       "  </tbody>\n",
       "</table>\n",
       "<p>5 rows × 38 columns</p>\n",
       "</div>"
      ],
      "text/plain": [
       "   season   age     w   sos  o_rtg  d_rtg  pace   f_tr  x3p_ar  ts_percent  \\\n",
       "0    2005  26.0  13.0  0.09  100.6  111.1  91.4  0.299   0.146       0.504   \n",
       "1    2005  26.0  13.0  0.09  100.6  111.1  91.4  0.299   0.146       0.504   \n",
       "2    2005  26.0  13.0  0.09  100.6  111.1  91.4  0.299   0.146       0.504   \n",
       "3    2005  26.0  13.0  0.09  100.6  111.1  91.4  0.299   0.146       0.504   \n",
       "4    2005  26.0  13.0  0.09  100.6  111.1  91.4  0.299   0.146       0.504   \n",
       "\n",
       "   ...  away_orb_percent  away_opp_e_fg_percent  away_opp_tov_percent  \\\n",
       "0  ...              27.2                  0.481                  14.2   \n",
       "1  ...              29.5                  0.497                  14.7   \n",
       "2  ...              28.4                  0.454                  14.4   \n",
       "3  ...              28.4                  0.482                  15.1   \n",
       "4  ...              31.2                  0.461                  13.5   \n",
       "\n",
       "   away_opp_drb_percent  away_opp_ft_fga  away_attend  away_attend_g  \\\n",
       "0                  70.1            0.274     656081.0        16002.0   \n",
       "1                  70.9            0.269     591701.0        14432.0   \n",
       "2                  72.6            0.262     828384.0        20204.0   \n",
       "3                  71.7            0.247     723949.0        17657.0   \n",
       "4                  73.0            0.207     905116.0        22076.0   \n",
       "\n",
       "   home_score  away_score  spread  \n",
       "0         120         117       3  \n",
       "1          90          93      -3  \n",
       "2         105         114      -9  \n",
       "3         110         107       3  \n",
       "4          68          95     -27  \n",
       "\n",
       "[5 rows x 38 columns]"
      ]
     },
     "execution_count": 3,
     "metadata": {},
     "output_type": "execute_result"
    }
   ],
   "source": [
    "#load dataset with redundant features removed (see NBA_predictive_model.ipynb)\n",
    "df_NBA_slim = pd.read_csv('NBA_numeric_slim.csv')\n",
    "df_NBA_slim.head()"
   ]
  },
  {
   "cell_type": "code",
   "execution_count": 4,
   "id": "995abafc",
   "metadata": {},
   "outputs": [],
   "source": [
    "#create training and test sets\n",
    "train_set_r, test_val_set_r = train_test_split(df_NBA_slim, test_size=0.2, \n",
    "                                       stratify=df_NBA_slim['season'], random_state=42)\n",
    "\n",
    "#separate into data (X) and targets(y).  Remove \"season\" and 'home_score' and 'away_score'\n",
    "X_train_r = train_set_r.iloc[:,1:-3]\n",
    "y_train_r = train_set_r.iloc[:,-1]\n",
    "\n",
    "#split test_val_set into test and validation sets\n",
    "test_set_r, val_set_r = train_test_split(test_val_set_r, test_size=0.5, \n",
    "                                       stratify=test_val_set_r['season'], random_state=42)\n",
    "\n",
    "X_test_r = test_set_r.iloc[:,1:-3]\n",
    "y_test_r = test_set_r.iloc[:,-1]\n",
    "\n",
    "X_val_r = val_set_r.iloc[:,1:-3]\n",
    "y_val_r = val_set_r.iloc[:,-1]"
   ]
  },
  {
   "cell_type": "code",
   "execution_count": 5,
   "id": "6e3433f5",
   "metadata": {},
   "outputs": [],
   "source": [
    "#z-score normalize the data\n",
    "ss = StandardScaler()\n",
    "\n",
    "X_train_r_ss = ss.fit_transform(X_train_r)\n",
    "X_test_r_ss = ss.transform(X_test_r)\n",
    "X_val_r_ss = ss.transform(X_val_r)"
   ]
  },
  {
   "cell_type": "code",
   "execution_count": null,
   "id": "e606633a",
   "metadata": {},
   "outputs": [],
   "source": [
    "%%time\n",
    "#grid search to optimize parameters\n",
    "\n",
    "svr = SVR()\n",
    "param_SVR = [{'kernel':['linear', 'poly', 'rbf', 'sigmoid'], 'degree':[2,3], \n",
    "             'gamma': ['scale','auto'], 'epsilon': [0.01, 0.1, 1, 10], 'C': [0.1, 1.0, 10]}]\n",
    "\n",
    "grid_search_svr = GridSearchCV(svr, param_SVR, cv=5, scoring='neg_root_mean_squared_error', n_jobs=-1)\n",
    "grid_search_svr.fit(X_train_r_ss, y_train_r)\n",
    "print(grid_search_svr.best_params_)\n",
    "print(grid_search_svr.best_score_)\n",
    "\n",
    "#oh my slow\n",
    "\"\"\"{'C': 0.1, 'degree': 2, 'epsilon': 10, 'gamma': 'scale', 'kernel': 'linear'}\n",
    "-12.212115945076476\n",
    "CPU times: total: 6.66 s\n",
    "Wall time: 33min 51s\"\"\""
   ]
  },
  {
   "cell_type": "code",
   "execution_count": null,
   "id": "0cd5abdb",
   "metadata": {},
   "outputs": [],
   "source": [
    "%%time\n",
    "#grid search to optimize parameters\n",
    "\n",
    "svr = SVR()\n",
    "param_SVR = [{'kernel':['linear', 'poly', 'rbf', 'sigmoid'], 'degree':[2,3], \n",
    "             'gamma': ['scale','auto'], 'epsilon': [1, 10, 100, 1000], 'C': [0.01, 0.1, 1.0]}]\n",
    "\n",
    "grid_search_svr = GridSearchCV(svr, param_SVR, cv=5, scoring='neg_root_mean_squared_error', n_jobs=-1)\n",
    "grid_search_svr.fit(X_train_r_ss, y_train_r)\n",
    "print(grid_search_svr.best_params_)\n",
    "print(grid_search_svr.best_score_)\n",
    "\n",
    "\"\"\"{'C': 0.1, 'degree': 2, 'epsilon': 10, 'gamma': 'scale', 'kernel': 'linear'}\n",
    "-12.212115945076476\n",
    "CPU times: total: 4.48 s\n",
    "Wall time: 10min 8s\"\"\""
   ]
  },
  {
   "cell_type": "code",
   "execution_count": null,
   "id": "6cd9a5b3",
   "metadata": {},
   "outputs": [],
   "source": [
    "%%time\n",
    "#grid search to optimize parameters\n",
    "\n",
    "svr = SVR(kernel='linear', gamma='scale')\n",
    "param_SVR = [{'epsilon': [5, 7, 10, 12, 15], 'C': [0.05, 0.07, 0.1, 0.12, 0.15]}]\n",
    "\n",
    "grid_search_svr = GridSearchCV(svr, param_SVR, cv=5, scoring='neg_root_mean_squared_error', n_jobs=-1)\n",
    "grid_search_svr.fit(X_train_r_ss, y_train_r)\n",
    "print(grid_search_svr.best_params_)\n",
    "print(grid_search_svr.best_score_)\n",
    "\n",
    "\"\"\"{'C': 0.05, 'epsilon': 15}\n",
    "-12.205624343272454\n",
    "CPU times: total: 1.39 s\n",
    "Wall time: 1min 9s\"\"\""
   ]
  },
  {
   "cell_type": "code",
   "execution_count": 6,
   "id": "545abcdf",
   "metadata": {},
   "outputs": [
    {
     "name": "stdout",
     "output_type": "stream",
     "text": [
      "{'C': 0.05, 'epsilon': 17}\n",
      "-12.204289448494757\n",
      "CPU times: total: 1.42 s\n",
      "Wall time: 30.4 s\n"
     ]
    }
   ],
   "source": [
    "%%time\n",
    "#grid search to optimize parameters\n",
    "\n",
    "svr = SVR(kernel='linear', gamma='scale')\n",
    "param_SVR = [{'epsilon': [12, 15, 17, 20], 'C': [0.01, 0.03, 0.05, 0.07]}]\n",
    "\n",
    "grid_search_svr = GridSearchCV(svr, param_SVR, cv=5, scoring='neg_root_mean_squared_error', n_jobs=-1)\n",
    "grid_search_svr.fit(X_train_r_ss, y_train_r)\n",
    "print(grid_search_svr.best_params_)\n",
    "print(grid_search_svr.best_score_)\n",
    "\n",
    "\"\"\"{'C': 0.05, 'epsilon': 17}\n",
    "-12.204289448494757\n",
    "CPU times: total: 1.42 s\n",
    "Wall time: 30.4 s\"\"\""
   ]
  },
  {
   "cell_type": "code",
   "execution_count": 6,
   "id": "8aa46404",
   "metadata": {},
   "outputs": [
    {
     "name": "stdout",
     "output_type": "stream",
     "text": [
      "RMSE =  12.28369216756171\n"
     ]
    }
   ],
   "source": [
    "#predict for validation set and evaluate using RMSE\n",
    "svr_op = SVR(kernel='linear', gamma='scale', epsilon=17, C=0.05)\n",
    "\n",
    "svr_op.fit(X_train_r_ss, y_train_r)\n",
    "y_hat_svr = svr_op.predict(X_val_r_ss)\n",
    "print('RMSE = ', mean_squared_error(y_val_r, y_hat_svr, squared = False))\n",
    "#better than KNN (RMSE = 12.45) with same data.  Dummy (RMSE = 13.3)"
   ]
  },
  {
   "cell_type": "code",
   "execution_count": 7,
   "id": "e40b30f3",
   "metadata": {},
   "outputs": [
    {
     "data": {
      "image/png": "[encoded data removed]",
      "text/plain": [
       "<Figure size 640x480 with 2 Axes>"
      ]
     },
     "metadata": {},
     "output_type": "display_data"
    }
   ],
   "source": [
    "#plot histograms of predictions and target values\n",
    "fig, axs = plt.subplots(2,1)\n",
    "\n",
    "axs[0].set_title('Spread')\n",
    "axs[0].hist(y_val_r, bins=20, range = (-60,60))\n",
    "\n",
    "axs[1].set_title('SVR predicted')\n",
    "axs[1].hist(y_hat_svr, bins=20, range =(-60,60))\n",
    "\n",
    "fig.tight_layout()\n",
    "plt.show()\n",
    "\n",
    "#distribution of predictions is still quite narrow.  However, it is wider than for the KNN models"
   ]
  },
  {
   "cell_type": "code",
   "execution_count": 8,
   "id": "e6eba1df",
   "metadata": {},
   "outputs": [
    {
     "data": {
      "image/png": "[encoded data removed]",
      "text/plain": [
       "<Figure size 300x500 with 1 Axes>"
      ]
     },
     "metadata": {},
     "output_type": "display_data"
    }
   ],
   "source": [
    "#plot targets vs. predictions on a scatter plot\n",
    "plt.figure(figsize=(3, 5))\n",
    "plt.xlabel('predicted spread')\n",
    "plt.ylabel('spread')\n",
    "plt.scatter(y_hat_svr, y_val_r)\n",
    "plt.show()\n",
    "\n",
    "#does not visually look that different than KNN plots"
   ]
  },
  {
   "cell_type": "code",
   "execution_count": 9,
   "id": "e0325197",
   "metadata": {},
   "outputs": [],
   "source": [
    "#KNN neighbor model for plotting comparison\n",
    "\n",
    "knn_80 = KNeighborsRegressor(n_neighbors = 80, weights = 'distance')\n",
    "knn_80.fit(X_train_r_ss, y_train_r)\n",
    "y_hat_knn_80 = knn_80.predict(X_val_r_ss)"
   ]
  },
  {
   "cell_type": "code",
   "execution_count": 10,
   "id": "a9d56d5d",
   "metadata": {},
   "outputs": [
    {
     "data": {
      "image/png": "[encoded data removed]",
      "text/plain": [
       "<Figure size 500x500 with 1 Axes>"
      ]
     },
     "metadata": {},
     "output_type": "display_data"
    }
   ],
   "source": [
    "#Scatter plot of knn vs svr predictions\n",
    "\n",
    "plt.figure(figsize=(5, 5))\n",
    "plt.xlabel('SVR predictions')\n",
    "plt.ylabel('KNN predictions')\n",
    "plt.scatter(y_hat_svr, y_hat_knn_80)\n",
    "plt.show()\n"
   ]
  },
  {
   "cell_type": "code",
   "execution_count": null,
   "id": "2390e756",
   "metadata": {},
   "outputs": [],
   "source": []
  }
 ],
 "metadata": {
  "kernelspec": {
   "display_name": "Python 3 (ipykernel)",
   "language": "python",
   "name": "python3"
  },
  "language_info": {
   "codemirror_mode": {
    "name": "ipython",
    "version": 3
   },
   "file_extension": ".py",
   "mimetype": "text/x-python",
   "name": "python",
   "nbconvert_exporter": "python",
   "pygments_lexer": "ipython3",
   "version": "3.11.5"
  }
 },
 "nbformat": 4,
 "nbformat_minor": 5
}
