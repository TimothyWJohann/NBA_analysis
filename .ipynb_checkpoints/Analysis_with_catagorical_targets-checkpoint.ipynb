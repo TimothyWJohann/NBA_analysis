{
 "cells": [
  {
   "cell_type": "code",
   "execution_count": 1,
   "id": "049a04d1-3538-4817-b3f6-7e36d5f3379e",
   "metadata": {},
   "outputs": [],
   "source": [
    "import pandas as pd\n",
    "import numpy as np\n",
    "import matplotlib.pyplot as plt\n",
    "import seaborn as sns\n",
    "from sklearn.preprocessing import StandardScaler\n",
    "from sklearn.model_selection import cross_val_score\n",
    "from sklearn.model_selection import GridSearchCV\n",
    "from sklearn.metrics import mean_squared_error\n",
    "from sklearn.metrics import mean_absolute_error\n",
    "from sklearn.metrics import silhouette_score\n",
    "from sklearn.cluster import KMeans"
   ]
  },
  {
   "cell_type": "code",
   "execution_count": 2,
   "id": "f00b7e9f-2f27-4309-86c6-f75347526b2f",
   "metadata": {},
   "outputs": [
    {
     "data": {
      "text/html": [
       "<div>\n",
       "<style scoped>\n",
       "    .dataframe tbody tr th:only-of-type {\n",
       "        vertical-align: middle;\n",
       "    }\n",
       "\n",
       "    .dataframe tbody tr th {\n",
       "        vertical-align: top;\n",
       "    }\n",
       "\n",
       "    .dataframe thead th {\n",
       "        text-align: right;\n",
       "    }\n",
       "</style>\n",
       "<table border=\"1\" class=\"dataframe\">\n",
       "  <thead>\n",
       "    <tr style=\"text-align: right;\">\n",
       "      <th></th>\n",
       "      <th>season</th>\n",
       "      <th>age</th>\n",
       "      <th>w</th>\n",
       "      <th>sos</th>\n",
       "      <th>o_rtg</th>\n",
       "      <th>d_rtg</th>\n",
       "      <th>pace</th>\n",
       "      <th>f_tr</th>\n",
       "      <th>x3p_ar</th>\n",
       "      <th>ts_percent</th>\n",
       "      <th>...</th>\n",
       "      <th>away_orb_percent</th>\n",
       "      <th>away_opp_e_fg_percent</th>\n",
       "      <th>away_opp_tov_percent</th>\n",
       "      <th>away_opp_drb_percent</th>\n",
       "      <th>away_opp_ft_fga</th>\n",
       "      <th>away_attend</th>\n",
       "      <th>away_attend_g</th>\n",
       "      <th>home_score</th>\n",
       "      <th>away_score</th>\n",
       "      <th>spread</th>\n",
       "    </tr>\n",
       "  </thead>\n",
       "  <tbody>\n",
       "    <tr>\n",
       "      <th>0</th>\n",
       "      <td>2005</td>\n",
       "      <td>26.0</td>\n",
       "      <td>13.0</td>\n",
       "      <td>0.09</td>\n",
       "      <td>100.6</td>\n",
       "      <td>111.1</td>\n",
       "      <td>91.4</td>\n",
       "      <td>0.299</td>\n",
       "      <td>0.146</td>\n",
       "      <td>0.504</td>\n",
       "      <td>...</td>\n",
       "      <td>27.2</td>\n",
       "      <td>0.481</td>\n",
       "      <td>14.2</td>\n",
       "      <td>70.1</td>\n",
       "      <td>0.274</td>\n",
       "      <td>656081.0</td>\n",
       "      <td>16002.0</td>\n",
       "      <td>120</td>\n",
       "      <td>117</td>\n",
       "      <td>3</td>\n",
       "    </tr>\n",
       "    <tr>\n",
       "      <th>1</th>\n",
       "      <td>2005</td>\n",
       "      <td>26.0</td>\n",
       "      <td>13.0</td>\n",
       "      <td>0.09</td>\n",
       "      <td>100.6</td>\n",
       "      <td>111.1</td>\n",
       "      <td>91.4</td>\n",
       "      <td>0.299</td>\n",
       "      <td>0.146</td>\n",
       "      <td>0.504</td>\n",
       "      <td>...</td>\n",
       "      <td>29.5</td>\n",
       "      <td>0.497</td>\n",
       "      <td>14.7</td>\n",
       "      <td>70.9</td>\n",
       "      <td>0.269</td>\n",
       "      <td>591701.0</td>\n",
       "      <td>14432.0</td>\n",
       "      <td>90</td>\n",
       "      <td>93</td>\n",
       "      <td>-3</td>\n",
       "    </tr>\n",
       "    <tr>\n",
       "      <th>2</th>\n",
       "      <td>2005</td>\n",
       "      <td>26.0</td>\n",
       "      <td>13.0</td>\n",
       "      <td>0.09</td>\n",
       "      <td>100.6</td>\n",
       "      <td>111.1</td>\n",
       "      <td>91.4</td>\n",
       "      <td>0.299</td>\n",
       "      <td>0.146</td>\n",
       "      <td>0.504</td>\n",
       "      <td>...</td>\n",
       "      <td>28.4</td>\n",
       "      <td>0.454</td>\n",
       "      <td>14.4</td>\n",
       "      <td>72.6</td>\n",
       "      <td>0.262</td>\n",
       "      <td>828384.0</td>\n",
       "      <td>20204.0</td>\n",
       "      <td>105</td>\n",
       "      <td>114</td>\n",
       "      <td>-9</td>\n",
       "    </tr>\n",
       "    <tr>\n",
       "      <th>3</th>\n",
       "      <td>2005</td>\n",
       "      <td>26.0</td>\n",
       "      <td>13.0</td>\n",
       "      <td>0.09</td>\n",
       "      <td>100.6</td>\n",
       "      <td>111.1</td>\n",
       "      <td>91.4</td>\n",
       "      <td>0.299</td>\n",
       "      <td>0.146</td>\n",
       "      <td>0.504</td>\n",
       "      <td>...</td>\n",
       "      <td>28.4</td>\n",
       "      <td>0.482</td>\n",
       "      <td>15.1</td>\n",
       "      <td>71.7</td>\n",
       "      <td>0.247</td>\n",
       "      <td>723949.0</td>\n",
       "      <td>17657.0</td>\n",
       "      <td>110</td>\n",
       "      <td>107</td>\n",
       "      <td>3</td>\n",
       "    </tr>\n",
       "    <tr>\n",
       "      <th>4</th>\n",
       "      <td>2005</td>\n",
       "      <td>26.0</td>\n",
       "      <td>13.0</td>\n",
       "      <td>0.09</td>\n",
       "      <td>100.6</td>\n",
       "      <td>111.1</td>\n",
       "      <td>91.4</td>\n",
       "      <td>0.299</td>\n",
       "      <td>0.146</td>\n",
       "      <td>0.504</td>\n",
       "      <td>...</td>\n",
       "      <td>31.2</td>\n",
       "      <td>0.461</td>\n",
       "      <td>13.5</td>\n",
       "      <td>73.0</td>\n",
       "      <td>0.207</td>\n",
       "      <td>905116.0</td>\n",
       "      <td>22076.0</td>\n",
       "      <td>68</td>\n",
       "      <td>95</td>\n",
       "      <td>-27</td>\n",
       "    </tr>\n",
       "  </tbody>\n",
       "</table>\n",
       "<p>5 rows × 38 columns</p>\n",
       "</div>"
      ],
      "text/plain": [
       "   season   age     w   sos  o_rtg  d_rtg  pace   f_tr  x3p_ar  ts_percent  \\\n",
       "0    2005  26.0  13.0  0.09  100.6  111.1  91.4  0.299   0.146       0.504   \n",
       "1    2005  26.0  13.0  0.09  100.6  111.1  91.4  0.299   0.146       0.504   \n",
       "2    2005  26.0  13.0  0.09  100.6  111.1  91.4  0.299   0.146       0.504   \n",
       "3    2005  26.0  13.0  0.09  100.6  111.1  91.4  0.299   0.146       0.504   \n",
       "4    2005  26.0  13.0  0.09  100.6  111.1  91.4  0.299   0.146       0.504   \n",
       "\n",
       "   ...  away_orb_percent  away_opp_e_fg_percent  away_opp_tov_percent  \\\n",
       "0  ...              27.2                  0.481                  14.2   \n",
       "1  ...              29.5                  0.497                  14.7   \n",
       "2  ...              28.4                  0.454                  14.4   \n",
       "3  ...              28.4                  0.482                  15.1   \n",
       "4  ...              31.2                  0.461                  13.5   \n",
       "\n",
       "   away_opp_drb_percent  away_opp_ft_fga  away_attend  away_attend_g  \\\n",
       "0                  70.1            0.274     656081.0        16002.0   \n",
       "1                  70.9            0.269     591701.0        14432.0   \n",
       "2                  72.6            0.262     828384.0        20204.0   \n",
       "3                  71.7            0.247     723949.0        17657.0   \n",
       "4                  73.0            0.207     905116.0        22076.0   \n",
       "\n",
       "   home_score  away_score  spread  \n",
       "0         120         117       3  \n",
       "1          90          93      -3  \n",
       "2         105         114      -9  \n",
       "3         110         107       3  \n",
       "4          68          95     -27  \n",
       "\n",
       "[5 rows x 38 columns]"
      ]
     },
     "execution_count": 2,
     "metadata": {},
     "output_type": "execute_result"
    }
   ],
   "source": [
    "#import dataset with redundant features removed\n",
    "df_NBA_slim = pd.read_csv('NBA_numeric_slim.csv')\n",
    "df_NBA_slim.head()"
   ]
  },
  {
   "cell_type": "code",
   "execution_count": 3,
   "id": "cce35972-aac2-407d-811a-1029dd9b0b19",
   "metadata": {
    "scrolled": true
   },
   "outputs": [
    {
     "data": {
      "text/plain": [
       "count    11486.000000\n",
       "mean         2.792356\n",
       "std         13.342616\n",
       "min        -56.000000\n",
       "25%         -7.000000\n",
       "50%          4.000000\n",
       "75%         11.000000\n",
       "max         61.000000\n",
       "Name: spread, dtype: float64"
      ]
     },
     "execution_count": 3,
     "metadata": {},
     "output_type": "execute_result"
    }
   ],
   "source": [
    "#what is the range on spreads?\n",
    "df_NBA_slim['spread'].describe()"
   ]
  },
  {
   "cell_type": "code",
   "execution_count": 5,
   "id": "3df9de50-0f53-4e8d-bce1-376689beb975",
   "metadata": {},
   "outputs": [],
   "source": [
    "df_NBA_slim['home win'] = df_NBA_slim['spread'] > 0\n"
   ]
  },
  {
   "cell_type": "code",
   "execution_count": 6,
   "id": "6498b7a8-1d1f-4cd8-a88e-b3a64249497b",
   "metadata": {},
   "outputs": [
    {
     "data": {
      "text/plain": [
       "home win\n",
       "True     6762\n",
       "False    4724\n",
       "Name: count, dtype: int64"
      ]
     },
     "execution_count": 6,
     "metadata": {},
     "output_type": "execute_result"
    }
   ],
   "source": [
    "#no ties in the NBA\n",
    "\n",
    "df_NBA_slim['home win'].value_counts(dropna=False)"
   ]
  },
  {
   "cell_type": "code",
   "execution_count": 12,
   "id": "c093d767-66ee-4c36-8e26-b3e43a1b02e4",
   "metadata": {},
   "outputs": [
    {
     "data": {
      "text/plain": [
       "spread_cat\n",
       "(2.5, 14.2]         4157\n",
       "(-9.2, 2.5]         3242\n",
       "(-20.9, -9.2]       1578\n",
       "(14.2, 25.9]        1549\n",
       "(25.9, 37.6]         423\n",
       "(-32.6, -20.9]       407\n",
       "(37.6, 49.3]          77\n",
       "(-44.3, -32.6]        41\n",
       "(-56.117, -44.3]       6\n",
       "(49.3, 61.0]           6\n",
       "Name: count, dtype: int64"
      ]
     },
     "execution_count": 12,
     "metadata": {},
     "output_type": "execute_result"
    }
   ],
   "source": [
    "#make 10 bins of spread values\n",
    "pd.set_option('display.max_columns', 1000)\n",
    "spread_names=['-5','-4','-3','-2', '-1', '+1', '+2','+3','+4','+5'] \n",
    "df_NBA_slim['spread_cat'], bins = pd.cut(df_NBA_slim['spread'], 10, retbins=True)\n",
    "df_NBA_slim['spread_cat']\n",
    "df_NBA_slim['spread_cat'].value_counts()"
   ]
  },
  {
   "cell_type": "code",
   "execution_count": 13,
   "id": "7b7f8557-701e-4c24-ba55-057579ddbe99",
   "metadata": {
    "scrolled": true
   },
   "outputs": [
    {
     "data": {
      "text/html": [
       "<div>\n",
       "<style scoped>\n",
       "    .dataframe tbody tr th:only-of-type {\n",
       "        vertical-align: middle;\n",
       "    }\n",
       "\n",
       "    .dataframe tbody tr th {\n",
       "        vertical-align: top;\n",
       "    }\n",
       "\n",
       "    .dataframe thead th {\n",
       "        text-align: right;\n",
       "    }\n",
       "</style>\n",
       "<table border=\"1\" class=\"dataframe\">\n",
       "  <thead>\n",
       "    <tr style=\"text-align: right;\">\n",
       "      <th></th>\n",
       "      <th>count</th>\n",
       "    </tr>\n",
       "    <tr>\n",
       "      <th>spread_cat</th>\n",
       "      <th></th>\n",
       "    </tr>\n",
       "  </thead>\n",
       "  <tbody>\n",
       "    <tr>\n",
       "      <th>(2.5, 14.2]</th>\n",
       "      <td>4157</td>\n",
       "    </tr>\n",
       "    <tr>\n",
       "      <th>(-9.2, 2.5]</th>\n",
       "      <td>3242</td>\n",
       "    </tr>\n",
       "    <tr>\n",
       "      <th>(-20.9, -9.2]</th>\n",
       "      <td>1578</td>\n",
       "    </tr>\n",
       "    <tr>\n",
       "      <th>(14.2, 25.9]</th>\n",
       "      <td>1549</td>\n",
       "    </tr>\n",
       "    <tr>\n",
       "      <th>(25.9, 37.6]</th>\n",
       "      <td>423</td>\n",
       "    </tr>\n",
       "    <tr>\n",
       "      <th>(-32.6, -20.9]</th>\n",
       "      <td>407</td>\n",
       "    </tr>\n",
       "    <tr>\n",
       "      <th>(37.6, 49.3]</th>\n",
       "      <td>77</td>\n",
       "    </tr>\n",
       "    <tr>\n",
       "      <th>(-44.3, -32.6]</th>\n",
       "      <td>41</td>\n",
       "    </tr>\n",
       "    <tr>\n",
       "      <th>(-56.117, -44.3]</th>\n",
       "      <td>6</td>\n",
       "    </tr>\n",
       "    <tr>\n",
       "      <th>(49.3, 61.0]</th>\n",
       "      <td>6</td>\n",
       "    </tr>\n",
       "  </tbody>\n",
       "</table>\n",
       "</div>"
      ],
      "text/plain": [
       "                  count\n",
       "spread_cat             \n",
       "(2.5, 14.2]        4157\n",
       "(-9.2, 2.5]        3242\n",
       "(-20.9, -9.2]      1578\n",
       "(14.2, 25.9]       1549\n",
       "(25.9, 37.6]        423\n",
       "(-32.6, -20.9]      407\n",
       "(37.6, 49.3]         77\n",
       "(-44.3, -32.6]       41\n",
       "(-56.117, -44.3]      6\n",
       "(49.3, 61.0]          6"
      ]
     },
     "execution_count": 13,
     "metadata": {},
     "output_type": "execute_result"
    }
   ],
   "source": [
    "bins_counts = pd.DataFrame(df_NBA_slim['spread_cat'].value_counts())\n",
    "bins_counts"
   ]
  },
  {
   "cell_type": "code",
   "execution_count": 21,
   "id": "334beab9-9dce-47a5-ba93-7ad3361b5ccd",
   "metadata": {
    "scrolled": true
   },
   "outputs": [
    {
     "data": {
      "text/html": [
       "<div>\n",
       "<style scoped>\n",
       "    .dataframe tbody tr th:only-of-type {\n",
       "        vertical-align: middle;\n",
       "    }\n",
       "\n",
       "    .dataframe tbody tr th {\n",
       "        vertical-align: top;\n",
       "    }\n",
       "\n",
       "    .dataframe thead th {\n",
       "        text-align: right;\n",
       "    }\n",
       "</style>\n",
       "<table border=\"1\" class=\"dataframe\">\n",
       "  <thead>\n",
       "    <tr style=\"text-align: right;\">\n",
       "      <th></th>\n",
       "      <th>count</th>\n",
       "      <th>bins</th>\n",
       "    </tr>\n",
       "    <tr>\n",
       "      <th>spread_cat</th>\n",
       "      <th></th>\n",
       "      <th></th>\n",
       "    </tr>\n",
       "  </thead>\n",
       "  <tbody>\n",
       "    <tr>\n",
       "      <th>(2.5, 14.2]</th>\n",
       "      <td>4157</td>\n",
       "      <td>(2.5, 14.2]</td>\n",
       "    </tr>\n",
       "    <tr>\n",
       "      <th>(-9.2, 2.5]</th>\n",
       "      <td>3242</td>\n",
       "      <td>(-9.2, 2.5]</td>\n",
       "    </tr>\n",
       "    <tr>\n",
       "      <th>(-20.9, -9.2]</th>\n",
       "      <td>1578</td>\n",
       "      <td>(-20.9, -9.2]</td>\n",
       "    </tr>\n",
       "    <tr>\n",
       "      <th>(14.2, 25.9]</th>\n",
       "      <td>1549</td>\n",
       "      <td>(14.2, 25.9]</td>\n",
       "    </tr>\n",
       "    <tr>\n",
       "      <th>(25.9, 37.6]</th>\n",
       "      <td>423</td>\n",
       "      <td>(25.9, 37.6]</td>\n",
       "    </tr>\n",
       "    <tr>\n",
       "      <th>(-32.6, -20.9]</th>\n",
       "      <td>407</td>\n",
       "      <td>(-32.6, -20.9]</td>\n",
       "    </tr>\n",
       "    <tr>\n",
       "      <th>(37.6, 49.3]</th>\n",
       "      <td>77</td>\n",
       "      <td>(37.6, 49.3]</td>\n",
       "    </tr>\n",
       "    <tr>\n",
       "      <th>(-44.3, -32.6]</th>\n",
       "      <td>41</td>\n",
       "      <td>(-44.3, -32.6]</td>\n",
       "    </tr>\n",
       "    <tr>\n",
       "      <th>(-56.117, -44.3]</th>\n",
       "      <td>6</td>\n",
       "      <td>(-56.117, -44.3]</td>\n",
       "    </tr>\n",
       "    <tr>\n",
       "      <th>(49.3, 61.0]</th>\n",
       "      <td>6</td>\n",
       "      <td>(49.3, 61.0]</td>\n",
       "    </tr>\n",
       "  </tbody>\n",
       "</table>\n",
       "</div>"
      ],
      "text/plain": [
       "                  count              bins\n",
       "spread_cat                               \n",
       "(2.5, 14.2]        4157       (2.5, 14.2]\n",
       "(-9.2, 2.5]        3242       (-9.2, 2.5]\n",
       "(-20.9, -9.2]      1578     (-20.9, -9.2]\n",
       "(14.2, 25.9]       1549      (14.2, 25.9]\n",
       "(25.9, 37.6]        423      (25.9, 37.6]\n",
       "(-32.6, -20.9]      407    (-32.6, -20.9]\n",
       "(37.6, 49.3]         77      (37.6, 49.3]\n",
       "(-44.3, -32.6]       41    (-44.3, -32.6]\n",
       "(-56.117, -44.3]      6  (-56.117, -44.3]\n",
       "(49.3, 61.0]          6      (49.3, 61.0]"
      ]
     },
     "execution_count": 21,
     "metadata": {},
     "output_type": "execute_result"
    }
   ],
   "source": [
    "bins_counts['bins'] = bins_counts.index\n",
    "bins_counts"
   ]
  },
  {
   "cell_type": "code",
   "execution_count": 25,
   "id": "2c69ed02-b23c-485e-838e-8b99117d9116",
   "metadata": {},
   "outputs": [
    {
     "data": {
      "text/plain": [
       "Index(['count', 'bins'], dtype='object')"
      ]
     },
     "execution_count": 25,
     "metadata": {},
     "output_type": "execute_result"
    }
   ],
   "source": [
    "bins_counts.columns"
   ]
  },
  {
   "cell_type": "code",
   "execution_count": 23,
   "id": "7dc57b6f-2176-49f7-8ffa-09fef9b73915",
   "metadata": {},
   "outputs": [
    {
     "ename": "KeyError",
     "evalue": "spread_cat\n(2.5, 14.2]              (2.5, 14.2]\n(-9.2, 2.5]              (-9.2, 2.5]\n(-20.9, -9.2]          (-20.9, -9.2]\n(14.2, 25.9]            (14.2, 25.9]\n(25.9, 37.6]            (25.9, 37.6]\n(-32.6, -20.9]        (-32.6, -20.9]\n(37.6, 49.3]            (37.6, 49.3]\n(-44.3, -32.6]        (-44.3, -32.6]\n(-56.117, -44.3]    (-56.117, -44.3]\n(49.3, 61.0]            (49.3, 61.0]\nName: bins, dtype: category\nCategories (10, interval[float64, right]): [(-56.117, -44.3] < (-44.3, -32.6] < (-32.6, -20.9] < (-20.9, -9.2] ... (14.2, 25.9] < (25.9, 37.6] < (37.6, 49.3] < (49.3, 61.0]]",
     "output_type": "error",
     "traceback": [
      "\u001b[1;31m---------------------------------------------------------------------------\u001b[0m",
      "\u001b[1;31mKeyError\u001b[0m                                  Traceback (most recent call last)",
      "\u001b[1;32m~\\AppData\\Local\\Temp\\ipykernel_10964\\4202649138.py\u001b[0m in \u001b[0;36m?\u001b[1;34m()\u001b[0m\n\u001b[1;32m----> 1\u001b[1;33m \u001b[0mbins_counts_sorted\u001b[0m \u001b[1;33m=\u001b[0m \u001b[0mbins_counts\u001b[0m\u001b[1;33m.\u001b[0m\u001b[0msort_values\u001b[0m\u001b[1;33m(\u001b[0m\u001b[0mbins_counts\u001b[0m\u001b[1;33m[\u001b[0m\u001b[1;34m'bins'\u001b[0m\u001b[1;33m]\u001b[0m\u001b[1;33m)\u001b[0m\u001b[1;33m\u001b[0m\u001b[1;33m\u001b[0m\u001b[0m\n\u001b[0m\u001b[0;32m      2\u001b[0m \u001b[0mbins_counts_sorted\u001b[0m\u001b[1;33m\u001b[0m\u001b[1;33m\u001b[0m\u001b[0m\n",
      "\u001b[1;32m~\\AppData\\Local\\anaconda3\\envs\\CPSC_370_Data_Mining\\Lib\\site-packages\\pandas\\core\\frame.py\u001b[0m in \u001b[0;36m?\u001b[1;34m(self, by, axis, ascending, inplace, kind, na_position, ignore_index, key)\u001b[0m\n\u001b[0;32m   7172\u001b[0m             )\n\u001b[0;32m   7173\u001b[0m         \u001b[1;32melif\u001b[0m \u001b[0mlen\u001b[0m\u001b[1;33m(\u001b[0m\u001b[0mby\u001b[0m\u001b[1;33m)\u001b[0m\u001b[1;33m:\u001b[0m\u001b[1;33m\u001b[0m\u001b[1;33m\u001b[0m\u001b[0m\n\u001b[0;32m   7174\u001b[0m             \u001b[1;31m# len(by) == 1\u001b[0m\u001b[1;33m\u001b[0m\u001b[1;33m\u001b[0m\u001b[0m\n\u001b[0;32m   7175\u001b[0m \u001b[1;33m\u001b[0m\u001b[0m\n\u001b[1;32m-> 7176\u001b[1;33m             \u001b[0mk\u001b[0m \u001b[1;33m=\u001b[0m \u001b[0mself\u001b[0m\u001b[1;33m.\u001b[0m\u001b[0m_get_label_or_level_values\u001b[0m\u001b[1;33m(\u001b[0m\u001b[0mby\u001b[0m\u001b[1;33m[\u001b[0m\u001b[1;36m0\u001b[0m\u001b[1;33m]\u001b[0m\u001b[1;33m,\u001b[0m \u001b[0maxis\u001b[0m\u001b[1;33m=\u001b[0m\u001b[0maxis\u001b[0m\u001b[1;33m)\u001b[0m\u001b[1;33m\u001b[0m\u001b[1;33m\u001b[0m\u001b[0m\n\u001b[0m\u001b[0;32m   7177\u001b[0m \u001b[1;33m\u001b[0m\u001b[0m\n\u001b[0;32m   7178\u001b[0m             \u001b[1;31m# need to rewrap column in Series to apply key function\u001b[0m\u001b[1;33m\u001b[0m\u001b[1;33m\u001b[0m\u001b[0m\n\u001b[0;32m   7179\u001b[0m             \u001b[1;32mif\u001b[0m \u001b[0mkey\u001b[0m \u001b[1;32mis\u001b[0m \u001b[1;32mnot\u001b[0m \u001b[1;32mNone\u001b[0m\u001b[1;33m:\u001b[0m\u001b[1;33m\u001b[0m\u001b[1;33m\u001b[0m\u001b[0m\n",
      "\u001b[1;32m~\\AppData\\Local\\anaconda3\\envs\\CPSC_370_Data_Mining\\Lib\\site-packages\\pandas\\core\\generic.py\u001b[0m in \u001b[0;36m?\u001b[1;34m(self, key, axis)\u001b[0m\n\u001b[0;32m   1906\u001b[0m             \u001b[0mvalues\u001b[0m \u001b[1;33m=\u001b[0m \u001b[0mself\u001b[0m\u001b[1;33m.\u001b[0m\u001b[0mxs\u001b[0m\u001b[1;33m(\u001b[0m\u001b[0mkey\u001b[0m\u001b[1;33m,\u001b[0m \u001b[0maxis\u001b[0m\u001b[1;33m=\u001b[0m\u001b[0mother_axes\u001b[0m\u001b[1;33m[\u001b[0m\u001b[1;36m0\u001b[0m\u001b[1;33m]\u001b[0m\u001b[1;33m)\u001b[0m\u001b[1;33m.\u001b[0m\u001b[0m_values\u001b[0m\u001b[1;33m\u001b[0m\u001b[1;33m\u001b[0m\u001b[0m\n\u001b[0;32m   1907\u001b[0m         \u001b[1;32melif\u001b[0m \u001b[0mself\u001b[0m\u001b[1;33m.\u001b[0m\u001b[0m_is_level_reference\u001b[0m\u001b[1;33m(\u001b[0m\u001b[0mkey\u001b[0m\u001b[1;33m,\u001b[0m \u001b[0maxis\u001b[0m\u001b[1;33m=\u001b[0m\u001b[0maxis\u001b[0m\u001b[1;33m)\u001b[0m\u001b[1;33m:\u001b[0m\u001b[1;33m\u001b[0m\u001b[1;33m\u001b[0m\u001b[0m\n\u001b[0;32m   1908\u001b[0m             \u001b[0mvalues\u001b[0m \u001b[1;33m=\u001b[0m \u001b[0mself\u001b[0m\u001b[1;33m.\u001b[0m\u001b[0maxes\u001b[0m\u001b[1;33m[\u001b[0m\u001b[0maxis\u001b[0m\u001b[1;33m]\u001b[0m\u001b[1;33m.\u001b[0m\u001b[0mget_level_values\u001b[0m\u001b[1;33m(\u001b[0m\u001b[0mkey\u001b[0m\u001b[1;33m)\u001b[0m\u001b[1;33m.\u001b[0m\u001b[0m_values\u001b[0m\u001b[1;33m\u001b[0m\u001b[1;33m\u001b[0m\u001b[0m\n\u001b[0;32m   1909\u001b[0m         \u001b[1;32melse\u001b[0m\u001b[1;33m:\u001b[0m\u001b[1;33m\u001b[0m\u001b[1;33m\u001b[0m\u001b[0m\n\u001b[1;32m-> 1910\u001b[1;33m             \u001b[1;32mraise\u001b[0m \u001b[0mKeyError\u001b[0m\u001b[1;33m(\u001b[0m\u001b[0mkey\u001b[0m\u001b[1;33m)\u001b[0m\u001b[1;33m\u001b[0m\u001b[1;33m\u001b[0m\u001b[0m\n\u001b[0m\u001b[0;32m   1911\u001b[0m \u001b[1;33m\u001b[0m\u001b[0m\n\u001b[0;32m   1912\u001b[0m         \u001b[1;31m# Check for duplicates\u001b[0m\u001b[1;33m\u001b[0m\u001b[1;33m\u001b[0m\u001b[0m\n\u001b[0;32m   1913\u001b[0m         \u001b[1;32mif\u001b[0m \u001b[0mvalues\u001b[0m\u001b[1;33m.\u001b[0m\u001b[0mndim\u001b[0m \u001b[1;33m>\u001b[0m \u001b[1;36m1\u001b[0m\u001b[1;33m:\u001b[0m\u001b[1;33m\u001b[0m\u001b[1;33m\u001b[0m\u001b[0m\n",
      "\u001b[1;31mKeyError\u001b[0m: spread_cat\n(2.5, 14.2]              (2.5, 14.2]\n(-9.2, 2.5]              (-9.2, 2.5]\n(-20.9, -9.2]          (-20.9, -9.2]\n(14.2, 25.9]            (14.2, 25.9]\n(25.9, 37.6]            (25.9, 37.6]\n(-32.6, -20.9]        (-32.6, -20.9]\n(37.6, 49.3]            (37.6, 49.3]\n(-44.3, -32.6]        (-44.3, -32.6]\n(-56.117, -44.3]    (-56.117, -44.3]\n(49.3, 61.0]            (49.3, 61.0]\nName: bins, dtype: category\nCategories (10, interval[float64, right]): [(-56.117, -44.3] < (-44.3, -32.6] < (-32.6, -20.9] < (-20.9, -9.2] ... (14.2, 25.9] < (25.9, 37.6] < (37.6, 49.3] < (49.3, 61.0]]"
     ]
    }
   ],
   "source": [
    "bins_counts_sorted = bins_counts.sort_values(bins_counts['bins'])\n",
    "bins_counts_sorted\n"
   ]
  },
  {
   "cell_type": "code",
   "execution_count": null,
   "id": "23722a3e-4cfb-4c16-9c9e-38f528e01a02",
   "metadata": {},
   "outputs": [],
   "source": [
    "#bin by deciles\n",
    "df_NBA_slim['dec_spread_cat'], bins = pd.qcut(df_NBA_slim['spread'], 10, retbins=True)\n",
    "df_NBA_slim"
   ]
  },
  {
   "cell_type": "code",
   "execution_count": null,
   "id": "e72c9705-1151-4b11-8cc5-1c8c096cef19",
   "metadata": {},
   "outputs": [],
   "source": [
    "bins\n"
   ]
  },
  {
   "cell_type": "code",
   "execution_count": 30,
   "id": "8243cd92-4db5-4db0-9b63-4f296c8babc1",
   "metadata": {},
   "outputs": [
    {
     "data": {
      "image/png": "[encoded data removed]",
      "text/plain": [
       "<Figure size 640x480 with 1 Axes>"
      ]
     },
     "metadata": {},
     "output_type": "display_data"
    }
   ],
   "source": [
    "plt.xlabel('equal range bins')\n",
    "plt.hist(df_NBA_slim['spread'], bins=10)\n",
    "plt.savefig('erb.png')"
   ]
  },
  {
   "cell_type": "code",
   "execution_count": null,
   "id": "06af11d5-da4f-49f7-a425-830d52496c6c",
   "metadata": {},
   "outputs": [],
   "source": []
  }
 ],
 "metadata": {
  "kernelspec": {
   "display_name": "Python 3 (ipykernel)",
   "language": "python",
   "name": "python3"
  },
  "language_info": {
   "codemirror_mode": {
    "name": "ipython",
    "version": 3
   },
   "file_extension": ".py",
   "mimetype": "text/x-python",
   "name": "python",
   "nbconvert_exporter": "python",
   "pygments_lexer": "ipython3",
   "version": "3.11.7"
  }
 },
 "nbformat": 4,
 "nbformat_minor": 5
}
